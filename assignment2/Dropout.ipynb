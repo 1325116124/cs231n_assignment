{
 "cells": [
  {
   "cell_type": "markdown",
   "metadata": {},
   "source": [
    "# Dropout\n",
    "Dropout [1] is a technique for regularizing neural networks by randomly setting some features to zero during the forward pass. In this exercise you will implement a dropout layer and modify your fully-connected network to optionally use dropout.\n",
    "\n",
    "[1] Geoffrey E. Hinton et al, \"Improving neural networks by preventing co-adaptation of feature detectors\", arXiv 2012"
   ]
  },
  {
   "cell_type": "code",
   "execution_count": 10,
   "metadata": {},
   "outputs": [
    {
     "name": "stdout",
     "output_type": "stream",
     "text": [
      "The autoreload extension is already loaded. To reload it, use:\n",
      "  %reload_ext autoreload\n"
     ]
    }
   ],
   "source": [
    "# As usual, a bit of setup\n",
    "from __future__ import print_function\n",
    "import time\n",
    "import numpy as np\n",
    "import matplotlib.pyplot as plt\n",
    "from cs231n.classifiers.fc_net import *\n",
    "from cs231n.data_utils import get_CIFAR10_data\n",
    "from cs231n.gradient_check import eval_numerical_gradient, eval_numerical_gradient_array\n",
    "from cs231n.solver import Solver\n",
    "\n",
    "%matplotlib inline\n",
    "plt.rcParams['figure.figsize'] = (10.0, 8.0) # set default size of plots\n",
    "plt.rcParams['image.interpolation'] = 'nearest'\n",
    "plt.rcParams['image.cmap'] = 'gray'\n",
    "\n",
    "# for auto-reloading external modules\n",
    "# see http://stackoverflow.com/questions/1907993/autoreload-of-modules-in-ipython\n",
    "%load_ext autoreload\n",
    "%autoreload 2\n",
    "\n",
    "def rel_error(x, y):\n",
    "  \"\"\" returns relative error \"\"\"\n",
    "  return np.max(np.abs(x - y) / (np.maximum(1e-8, np.abs(x) + np.abs(y))))"
   ]
  },
  {
   "cell_type": "code",
   "execution_count": 11,
   "metadata": {},
   "outputs": [
    {
     "name": "stdout",
     "output_type": "stream",
     "text": [
      "X_train:  (49000, 3, 32, 32)\n",
      "y_train:  (49000,)\n",
      "X_val:  (1000, 3, 32, 32)\n",
      "y_val:  (1000,)\n",
      "X_test:  (1000, 3, 32, 32)\n",
      "y_test:  (1000,)\n"
     ]
    }
   ],
   "source": [
    "# Load the (preprocessed) CIFAR10 data.\n",
    "\n",
    "data = get_CIFAR10_data()\n",
    "for k, v in data.items():\n",
    "  print('%s: ' % k, v.shape)"
   ]
  },
  {
   "cell_type": "markdown",
   "metadata": {},
   "source": [
    "# Dropout forward pass\n",
    "In the file `cs231n/layers.py`, implement the forward pass for dropout. Since dropout behaves differently during training and testing, make sure to implement the operation for both modes.\n",
    "\n",
    "Once you have done so, run the cell below to test your implementation."
   ]
  },
  {
   "cell_type": "code",
   "execution_count": 13,
   "metadata": {},
   "outputs": [
    {
     "name": "stdout",
     "output_type": "stream",
     "text": [
      "[[2. 0. 0.]\n",
      " [2. 0. 0.]]\n",
      "Running tests with p =  0.3\n",
      "Mean of input:  10.000207878477502\n",
      "Mean of train-time output:  5.472635273994081\n",
      "Mean of test-time output:  10.000207878477502\n",
      "Fraction of train-time output set to zero:  0.617032\n",
      "Fraction of test-time output set to zero:  0.0\n",
      "\n",
      "Running tests with p =  0.6\n",
      "Mean of input:  10.000207878477502\n",
      "Mean of train-time output:  6.901257657380852\n",
      "Mean of test-time output:  10.000207878477502\n",
      "Fraction of train-time output set to zero:  0.723944\n",
      "Fraction of test-time output set to zero:  0.0\n",
      "\n",
      "Running tests with p =  0.75\n",
      "Mean of input:  10.000207878477502\n",
      "Mean of train-time output:  9.081487858967208\n",
      "Mean of test-time output:  10.000207878477502\n",
      "Fraction of train-time output set to zero:  0.772976\n",
      "Fraction of test-time output set to zero:  0.0\n",
      "\n"
     ]
    }
   ],
   "source": [
    "np.random.seed(231)\n",
    "x = np.random.randn(500, 500) + 10\n",
    "\n",
    "for p in [0.3, 0.6, 0.75]:\n",
    "  out, _ = dropout_forward(x, {'mode': 'train', 'p': p})\n",
    "  out_test, _ = dropout_forward(x, {'mode': 'test', 'p': p})\n",
    "\n",
    "  print('Running tests with p = ', p)\n",
    "  print('Mean of input: ', x.mean())\n",
    "  print('Mean of train-time output: ', out.mean())\n",
    "  print('Mean of test-time output: ', out_test.mean())\n",
    "  print('Fraction of train-time output set to zero: ', (out == 0).mean())\n",
    "  print('Fraction of test-time output set to zero: ', (out_test == 0).mean())\n",
    "  print()"
   ]
  },
  {
   "cell_type": "markdown",
   "metadata": {},
   "source": [
    "# Dropout backward pass\n",
    "In the file `cs231n/layers.py`, implement the backward pass for dropout. After doing so, run the following cell to numerically gradient-check your implementation."
   ]
  },
  {
   "cell_type": "code",
   "execution_count": 14,
   "metadata": {},
   "outputs": [
    {
     "name": "stdout",
     "output_type": "stream",
     "text": [
      "[[2. 0. 0.]\n",
      " [2. 0. 0.]]\n",
      "dx relative error:  5.445612718272284e-11\n"
     ]
    }
   ],
   "source": [
    "np.random.seed(231)\n",
    "x = np.random.randn(10, 10) + 10\n",
    "dout = np.random.randn(*x.shape)\n",
    "\n",
    "dropout_param = {'mode': 'train', 'p': 0.8, 'seed': 123}\n",
    "out, cache = dropout_forward(x, dropout_param)\n",
    "dx = dropout_backward(dout, cache)\n",
    "dx_num = eval_numerical_gradient_array(lambda xx: dropout_forward(xx, dropout_param)[0], x, dout)\n",
    "\n",
    "print('dx relative error: ', rel_error(dx, dx_num))"
   ]
  },
  {
   "cell_type": "markdown",
   "metadata": {},
   "source": [
    "# Fully-connected nets with Dropout\n",
    "In the file `cs231n/classifiers/fc_net.py`, modify your implementation to use dropout. Specificially, if the constructor the the net receives a nonzero value for the `dropout` parameter, then the net should add dropout immediately after every ReLU nonlinearity. After doing so, run the following to numerically gradient-check your implementation."
   ]
  },
  {
   "cell_type": "code",
   "execution_count": 15,
   "metadata": {},
   "outputs": [
    {
     "name": "stdout",
     "output_type": "stream",
     "text": [
      "Running check with dropout =  0\n",
      "Initial loss:  2.3004790897684924\n",
      "W1 relative error: 1.48e-07\n",
      "W2 relative error: 2.21e-05\n",
      "W3 relative error: 3.53e-07\n",
      "b1 relative error: 5.38e-09\n",
      "b2 relative error: 2.09e-09\n",
      "b3 relative error: 5.80e-11\n",
      "\n",
      "Running check with dropout =  0.25\n",
      "Initial loss:  2.3023871166190277\n",
      "W1 relative error: 2.03e-08\n",
      "W2 relative error: 3.56e-09\n",
      "W3 relative error: 3.65e-08\n",
      "b1 relative error: 1.41e-09\n",
      "b2 relative error: 4.51e-10\n",
      "b3 relative error: 8.76e-11\n",
      "\n",
      "Running check with dropout =  0.5\n",
      "Initial loss:  2.3019472250546933\n",
      "W1 relative error: 7.95e-08\n",
      "W2 relative error: 3.33e-08\n",
      "W3 relative error: 2.71e-08\n",
      "b1 relative error: 1.55e-09\n",
      "b2 relative error: 2.97e-09\n",
      "b3 relative error: 8.07e-11\n",
      "\n"
     ]
    }
   ],
   "source": [
    "np.random.seed(231)\n",
    "N, D, H1, H2, C = 2, 15, 20, 30, 10\n",
    "X = np.random.randn(N, D)\n",
    "y = np.random.randint(C, size=(N,))\n",
    "\n",
    "for dropout in [0, 0.25, 0.5]:\n",
    "  print('Running check with dropout = ', dropout)\n",
    "  model = FullyConnectedNet([H1, H2], input_dim=D, num_classes=C,\n",
    "                            weight_scale=5e-2, dtype=np.float64,\n",
    "                            dropout=dropout, seed=123)\n",
    "\n",
    "  loss, grads = model.loss(X, y)\n",
    "  print('Initial loss: ', loss)\n",
    "\n",
    "  for name in sorted(grads):\n",
    "    f = lambda _: model.loss(X, y)[0]\n",
    "    grad_num = eval_numerical_gradient(f, model.params[name], verbose=False, h=1e-5)\n",
    "    print('%s relative error: %.2e' % (name, rel_error(grad_num, grads[name])))\n",
    "  print()"
   ]
  },
  {
   "cell_type": "markdown",
   "metadata": {},
   "source": [
    "# Regularization experiment\n",
    "As an experiment, we will train a pair of two-layer networks on 500 training examples: one will use no dropout, and one will use a dropout probability of 0.75. We will then visualize the training and validation accuracies of the two networks over time."
   ]
  },
  {
   "cell_type": "code",
   "execution_count": 21,
   "metadata": {
    "scrolled": false
   },
   "outputs": [
    {
     "name": "stdout",
     "output_type": "stream",
     "text": [
      "0\n",
      "(Iteration 1 / 125) loss: 7.856643\n",
      "(Epoch 0 / 25) train acc: 0.274000; val_acc: 0.192000\n",
      "(Epoch 1 / 25) train acc: 0.410000; val_acc: 0.263000\n",
      "(Epoch 2 / 25) train acc: 0.518000; val_acc: 0.269000\n",
      "(Epoch 3 / 25) train acc: 0.550000; val_acc: 0.248000\n",
      "(Epoch 4 / 25) train acc: 0.684000; val_acc: 0.297000\n",
      "(Epoch 5 / 25) train acc: 0.758000; val_acc: 0.292000\n",
      "(Epoch 6 / 25) train acc: 0.782000; val_acc: 0.266000\n",
      "(Epoch 7 / 25) train acc: 0.860000; val_acc: 0.240000\n",
      "(Epoch 8 / 25) train acc: 0.868000; val_acc: 0.283000\n",
      "(Epoch 9 / 25) train acc: 0.894000; val_acc: 0.281000\n",
      "(Epoch 10 / 25) train acc: 0.896000; val_acc: 0.264000\n",
      "(Epoch 11 / 25) train acc: 0.948000; val_acc: 0.289000\n",
      "(Epoch 12 / 25) train acc: 0.960000; val_acc: 0.295000\n",
      "(Epoch 13 / 25) train acc: 0.944000; val_acc: 0.277000\n",
      "(Epoch 14 / 25) train acc: 0.964000; val_acc: 0.270000\n",
      "(Epoch 15 / 25) train acc: 0.982000; val_acc: 0.295000\n",
      "(Epoch 16 / 25) train acc: 0.982000; val_acc: 0.309000\n",
      "(Epoch 17 / 25) train acc: 0.962000; val_acc: 0.301000\n",
      "(Epoch 18 / 25) train acc: 0.972000; val_acc: 0.310000\n",
      "(Epoch 19 / 25) train acc: 0.974000; val_acc: 0.294000\n",
      "(Epoch 20 / 25) train acc: 0.976000; val_acc: 0.300000\n",
      "(Iteration 101 / 125) loss: 0.292997\n",
      "(Epoch 21 / 25) train acc: 0.938000; val_acc: 0.296000\n",
      "(Epoch 22 / 25) train acc: 0.956000; val_acc: 0.299000\n",
      "(Epoch 23 / 25) train acc: 0.944000; val_acc: 0.300000\n",
      "(Epoch 24 / 25) train acc: 0.988000; val_acc: 0.280000\n",
      "(Epoch 25 / 25) train acc: 0.962000; val_acc: 0.278000\n",
      "0.25\n",
      "(Iteration 1 / 125) loss: 8.774261\n",
      "(Epoch 0 / 25) train acc: 0.260000; val_acc: 0.186000\n",
      "(Epoch 1 / 25) train acc: 0.408000; val_acc: 0.253000\n",
      "(Epoch 2 / 25) train acc: 0.514000; val_acc: 0.255000\n",
      "(Epoch 3 / 25) train acc: 0.572000; val_acc: 0.288000\n",
      "(Epoch 4 / 25) train acc: 0.614000; val_acc: 0.242000\n",
      "(Epoch 5 / 25) train acc: 0.694000; val_acc: 0.259000\n",
      "(Epoch 6 / 25) train acc: 0.740000; val_acc: 0.281000\n",
      "(Epoch 7 / 25) train acc: 0.768000; val_acc: 0.305000\n",
      "(Epoch 8 / 25) train acc: 0.812000; val_acc: 0.320000\n",
      "(Epoch 9 / 25) train acc: 0.830000; val_acc: 0.318000\n",
      "(Epoch 10 / 25) train acc: 0.810000; val_acc: 0.284000\n",
      "(Epoch 11 / 25) train acc: 0.854000; val_acc: 0.301000\n",
      "(Epoch 12 / 25) train acc: 0.858000; val_acc: 0.295000\n",
      "(Epoch 13 / 25) train acc: 0.886000; val_acc: 0.309000\n",
      "(Epoch 14 / 25) train acc: 0.896000; val_acc: 0.297000\n",
      "(Epoch 15 / 25) train acc: 0.904000; val_acc: 0.296000\n",
      "(Epoch 16 / 25) train acc: 0.932000; val_acc: 0.315000\n",
      "(Epoch 17 / 25) train acc: 0.924000; val_acc: 0.301000\n",
      "(Epoch 18 / 25) train acc: 0.910000; val_acc: 0.308000\n",
      "(Epoch 19 / 25) train acc: 0.936000; val_acc: 0.316000\n",
      "(Epoch 20 / 25) train acc: 0.946000; val_acc: 0.303000\n",
      "(Iteration 101 / 125) loss: 0.969068\n",
      "(Epoch 21 / 25) train acc: 0.954000; val_acc: 0.296000\n",
      "(Epoch 22 / 25) train acc: 0.908000; val_acc: 0.295000\n",
      "(Epoch 23 / 25) train acc: 0.968000; val_acc: 0.322000\n",
      "(Epoch 24 / 25) train acc: 0.954000; val_acc: 0.291000\n",
      "(Epoch 25 / 25) train acc: 0.954000; val_acc: 0.304000\n",
      "0.5\n",
      "(Iteration 1 / 125) loss: 8.354421\n",
      "(Epoch 0 / 25) train acc: 0.230000; val_acc: 0.196000\n",
      "(Epoch 1 / 25) train acc: 0.396000; val_acc: 0.271000\n",
      "(Epoch 2 / 25) train acc: 0.482000; val_acc: 0.294000\n",
      "(Epoch 3 / 25) train acc: 0.484000; val_acc: 0.291000\n",
      "(Epoch 4 / 25) train acc: 0.596000; val_acc: 0.305000\n",
      "(Epoch 5 / 25) train acc: 0.620000; val_acc: 0.313000\n",
      "(Epoch 6 / 25) train acc: 0.684000; val_acc: 0.302000\n",
      "(Epoch 7 / 25) train acc: 0.716000; val_acc: 0.303000\n",
      "(Epoch 8 / 25) train acc: 0.744000; val_acc: 0.317000\n",
      "(Epoch 9 / 25) train acc: 0.752000; val_acc: 0.306000\n",
      "(Epoch 10 / 25) train acc: 0.796000; val_acc: 0.285000\n",
      "(Epoch 11 / 25) train acc: 0.774000; val_acc: 0.297000\n",
      "(Epoch 12 / 25) train acc: 0.838000; val_acc: 0.312000\n",
      "(Epoch 13 / 25) train acc: 0.804000; val_acc: 0.310000\n",
      "(Epoch 14 / 25) train acc: 0.842000; val_acc: 0.328000\n",
      "(Epoch 15 / 25) train acc: 0.872000; val_acc: 0.343000\n",
      "(Epoch 16 / 25) train acc: 0.866000; val_acc: 0.331000\n",
      "(Epoch 17 / 25) train acc: 0.910000; val_acc: 0.319000\n",
      "(Epoch 18 / 25) train acc: 0.904000; val_acc: 0.319000\n",
      "(Epoch 19 / 25) train acc: 0.872000; val_acc: 0.323000\n",
      "(Epoch 20 / 25) train acc: 0.930000; val_acc: 0.337000\n",
      "(Iteration 101 / 125) loss: 2.713389\n",
      "(Epoch 21 / 25) train acc: 0.924000; val_acc: 0.333000\n",
      "(Epoch 22 / 25) train acc: 0.942000; val_acc: 0.336000\n",
      "(Epoch 23 / 25) train acc: 0.938000; val_acc: 0.295000\n",
      "(Epoch 24 / 25) train acc: 0.948000; val_acc: 0.312000\n",
      "(Epoch 25 / 25) train acc: 0.934000; val_acc: 0.312000\n",
      "0.75\n",
      "(Iteration 1 / 125) loss: 17.031777\n",
      "(Epoch 0 / 25) train acc: 0.184000; val_acc: 0.156000\n",
      "(Epoch 1 / 25) train acc: 0.340000; val_acc: 0.222000\n",
      "(Epoch 2 / 25) train acc: 0.508000; val_acc: 0.296000\n",
      "(Epoch 3 / 25) train acc: 0.500000; val_acc: 0.319000\n",
      "(Epoch 4 / 25) train acc: 0.562000; val_acc: 0.296000\n",
      "(Epoch 5 / 25) train acc: 0.596000; val_acc: 0.286000\n",
      "(Epoch 6 / 25) train acc: 0.622000; val_acc: 0.305000\n",
      "(Epoch 7 / 25) train acc: 0.704000; val_acc: 0.333000\n",
      "(Epoch 8 / 25) train acc: 0.714000; val_acc: 0.300000\n",
      "(Epoch 9 / 25) train acc: 0.764000; val_acc: 0.302000\n",
      "(Epoch 10 / 25) train acc: 0.776000; val_acc: 0.300000\n",
      "(Epoch 11 / 25) train acc: 0.766000; val_acc: 0.282000\n",
      "(Epoch 12 / 25) train acc: 0.810000; val_acc: 0.334000\n",
      "(Epoch 13 / 25) train acc: 0.796000; val_acc: 0.304000\n",
      "(Epoch 14 / 25) train acc: 0.822000; val_acc: 0.289000\n",
      "(Epoch 15 / 25) train acc: 0.816000; val_acc: 0.297000\n",
      "(Epoch 16 / 25) train acc: 0.870000; val_acc: 0.311000\n",
      "(Epoch 17 / 25) train acc: 0.816000; val_acc: 0.317000\n",
      "(Epoch 18 / 25) train acc: 0.842000; val_acc: 0.312000\n",
      "(Epoch 19 / 25) train acc: 0.854000; val_acc: 0.299000\n",
      "(Epoch 20 / 25) train acc: 0.860000; val_acc: 0.278000\n",
      "(Iteration 101 / 125) loss: 4.579180\n",
      "(Epoch 21 / 25) train acc: 0.864000; val_acc: 0.311000\n",
      "(Epoch 22 / 25) train acc: 0.896000; val_acc: 0.315000\n",
      "(Epoch 23 / 25) train acc: 0.894000; val_acc: 0.308000\n",
      "(Epoch 24 / 25) train acc: 0.904000; val_acc: 0.301000\n",
      "(Epoch 25 / 25) train acc: 0.894000; val_acc: 0.306000\n",
      "0.8\n",
      "(Iteration 1 / 125) loss: 17.746832\n",
      "(Epoch 0 / 25) train acc: 0.266000; val_acc: 0.184000\n",
      "(Epoch 1 / 25) train acc: 0.330000; val_acc: 0.245000\n",
      "(Epoch 2 / 25) train acc: 0.420000; val_acc: 0.267000\n",
      "(Epoch 3 / 25) train acc: 0.486000; val_acc: 0.288000\n",
      "(Epoch 4 / 25) train acc: 0.526000; val_acc: 0.274000\n",
      "(Epoch 5 / 25) train acc: 0.576000; val_acc: 0.287000\n",
      "(Epoch 6 / 25) train acc: 0.626000; val_acc: 0.298000\n",
      "(Epoch 7 / 25) train acc: 0.644000; val_acc: 0.293000\n",
      "(Epoch 8 / 25) train acc: 0.652000; val_acc: 0.300000\n",
      "(Epoch 9 / 25) train acc: 0.692000; val_acc: 0.316000\n",
      "(Epoch 10 / 25) train acc: 0.714000; val_acc: 0.306000\n",
      "(Epoch 11 / 25) train acc: 0.758000; val_acc: 0.296000\n",
      "(Epoch 12 / 25) train acc: 0.750000; val_acc: 0.308000\n",
      "(Epoch 13 / 25) train acc: 0.788000; val_acc: 0.306000\n",
      "(Epoch 14 / 25) train acc: 0.804000; val_acc: 0.304000\n",
      "(Epoch 15 / 25) train acc: 0.774000; val_acc: 0.292000\n",
      "(Epoch 16 / 25) train acc: 0.822000; val_acc: 0.328000\n",
      "(Epoch 17 / 25) train acc: 0.824000; val_acc: 0.317000\n",
      "(Epoch 18 / 25) train acc: 0.828000; val_acc: 0.308000\n",
      "(Epoch 19 / 25) train acc: 0.850000; val_acc: 0.308000\n",
      "(Epoch 20 / 25) train acc: 0.884000; val_acc: 0.320000\n",
      "(Iteration 101 / 125) loss: 5.126977\n",
      "(Epoch 21 / 25) train acc: 0.870000; val_acc: 0.311000\n",
      "(Epoch 22 / 25) train acc: 0.880000; val_acc: 0.309000\n",
      "(Epoch 23 / 25) train acc: 0.846000; val_acc: 0.321000\n",
      "(Epoch 24 / 25) train acc: 0.886000; val_acc: 0.327000\n",
      "(Epoch 25 / 25) train acc: 0.894000; val_acc: 0.299000\n",
      "0.9\n",
      "(Iteration 1 / 125) loss: 29.323452\n",
      "(Epoch 0 / 25) train acc: 0.180000; val_acc: 0.178000\n",
      "(Epoch 1 / 25) train acc: 0.370000; val_acc: 0.255000\n",
      "(Epoch 2 / 25) train acc: 0.390000; val_acc: 0.235000\n",
      "(Epoch 3 / 25) train acc: 0.474000; val_acc: 0.295000\n",
      "(Epoch 4 / 25) train acc: 0.530000; val_acc: 0.319000\n",
      "(Epoch 5 / 25) train acc: 0.558000; val_acc: 0.294000\n",
      "(Epoch 6 / 25) train acc: 0.604000; val_acc: 0.305000\n",
      "(Epoch 7 / 25) train acc: 0.636000; val_acc: 0.302000\n",
      "(Epoch 8 / 25) train acc: 0.672000; val_acc: 0.306000\n",
      "(Epoch 9 / 25) train acc: 0.692000; val_acc: 0.296000\n",
      "(Epoch 10 / 25) train acc: 0.702000; val_acc: 0.303000\n",
      "(Epoch 11 / 25) train acc: 0.732000; val_acc: 0.296000\n",
      "(Epoch 12 / 25) train acc: 0.682000; val_acc: 0.286000\n"
     ]
    },
    {
     "name": "stdout",
     "output_type": "stream",
     "text": [
      "(Epoch 13 / 25) train acc: 0.708000; val_acc: 0.322000\n",
      "(Epoch 14 / 25) train acc: 0.760000; val_acc: 0.298000\n",
      "(Epoch 15 / 25) train acc: 0.802000; val_acc: 0.337000\n",
      "(Epoch 16 / 25) train acc: 0.772000; val_acc: 0.299000\n",
      "(Epoch 17 / 25) train acc: 0.796000; val_acc: 0.291000\n",
      "(Epoch 18 / 25) train acc: 0.830000; val_acc: 0.288000\n",
      "(Epoch 19 / 25) train acc: 0.818000; val_acc: 0.294000\n",
      "(Epoch 20 / 25) train acc: 0.854000; val_acc: 0.312000\n",
      "(Iteration 101 / 125) loss: 8.121966\n",
      "(Epoch 21 / 25) train acc: 0.846000; val_acc: 0.322000\n",
      "(Epoch 22 / 25) train acc: 0.816000; val_acc: 0.305000\n",
      "(Epoch 23 / 25) train acc: 0.846000; val_acc: 0.330000\n",
      "(Epoch 24 / 25) train acc: 0.860000; val_acc: 0.327000\n",
      "(Epoch 25 / 25) train acc: 0.888000; val_acc: 0.322000\n",
      "0.99\n",
      "(Iteration 1 / 125) loss: 332.735195\n",
      "(Epoch 0 / 25) train acc: 0.184000; val_acc: 0.194000\n",
      "(Epoch 1 / 25) train acc: 0.344000; val_acc: 0.246000\n",
      "(Epoch 2 / 25) train acc: 0.408000; val_acc: 0.267000\n",
      "(Epoch 3 / 25) train acc: 0.472000; val_acc: 0.287000\n",
      "(Epoch 4 / 25) train acc: 0.512000; val_acc: 0.312000\n",
      "(Epoch 5 / 25) train acc: 0.552000; val_acc: 0.323000\n",
      "(Epoch 6 / 25) train acc: 0.540000; val_acc: 0.298000\n",
      "(Epoch 7 / 25) train acc: 0.606000; val_acc: 0.316000\n",
      "(Epoch 8 / 25) train acc: 0.622000; val_acc: 0.320000\n",
      "(Epoch 9 / 25) train acc: 0.640000; val_acc: 0.322000\n",
      "(Epoch 10 / 25) train acc: 0.646000; val_acc: 0.331000\n",
      "(Epoch 11 / 25) train acc: 0.666000; val_acc: 0.326000\n",
      "(Epoch 12 / 25) train acc: 0.702000; val_acc: 0.334000\n",
      "(Epoch 13 / 25) train acc: 0.712000; val_acc: 0.319000\n",
      "(Epoch 14 / 25) train acc: 0.726000; val_acc: 0.317000\n",
      "(Epoch 15 / 25) train acc: 0.750000; val_acc: 0.313000\n",
      "(Epoch 16 / 25) train acc: 0.778000; val_acc: 0.326000\n",
      "(Epoch 17 / 25) train acc: 0.792000; val_acc: 0.325000\n",
      "(Epoch 18 / 25) train acc: 0.806000; val_acc: 0.332000\n",
      "(Epoch 19 / 25) train acc: 0.810000; val_acc: 0.333000\n",
      "(Epoch 20 / 25) train acc: 0.810000; val_acc: 0.300000\n",
      "(Iteration 101 / 125) loss: 134.941341\n",
      "(Epoch 21 / 25) train acc: 0.830000; val_acc: 0.299000\n",
      "(Epoch 22 / 25) train acc: 0.802000; val_acc: 0.298000\n",
      "(Epoch 23 / 25) train acc: 0.860000; val_acc: 0.310000\n",
      "(Epoch 24 / 25) train acc: 0.834000; val_acc: 0.309000\n",
      "(Epoch 25 / 25) train acc: 0.852000; val_acc: 0.342000\n"
     ]
    }
   ],
   "source": [
    "# Train two identical nets, one with dropout and one without\n",
    "np.random.seed(231)\n",
    "num_train = 500\n",
    "small_data = {\n",
    "  'X_train': data['X_train'][:num_train],\n",
    "  'y_train': data['y_train'][:num_train],\n",
    "  'X_val': data['X_val'],\n",
    "  'y_val': data['y_val'],\n",
    "}\n",
    "\n",
    "solvers = {}\n",
    "dropout_choices = [0, 0.25, 0.5, 0.75, 0.8, 0.9, 0.99]\n",
    "for dropout in dropout_choices:\n",
    "  model = FullyConnectedNet([500], dropout=dropout)\n",
    "  print(dropout)\n",
    "\n",
    "  solver = Solver(model, small_data,\n",
    "                  num_epochs=25, batch_size=100,\n",
    "                  update_rule='adam',\n",
    "                  optim_config={\n",
    "                    'learning_rate': 5e-4,\n",
    "                  },\n",
    "                  verbose=True, print_every=100)\n",
    "  solver.train()\n",
    "  solvers[dropout] = solver"
   ]
  },
  {
   "cell_type": "code",
   "execution_count": 22,
   "metadata": {},
   "outputs": [
    {
     "data": {
      "image/png": "[encoded data removed]",
      "text/plain": [
       "<Figure size 1080x1080 with 2 Axes>"
      ]
     },
     "metadata": {
      "needs_background": "light"
     },
     "output_type": "display_data"
    }
   ],
   "source": [
    "# Plot train and validation accuracies of the two models\n",
    "\n",
    "train_accs = []\n",
    "val_accs = []\n",
    "for dropout in dropout_choices:\n",
    "  solver = solvers[dropout]\n",
    "  train_accs.append(solver.train_acc_history[-1])\n",
    "  val_accs.append(solver.val_acc_history[-1])\n",
    "\n",
    "plt.subplot(3, 1, 1)\n",
    "for dropout in dropout_choices:\n",
    "  plt.plot(solvers[dropout].train_acc_history, 'o', label='%.2f dropout' % dropout)\n",
    "plt.title('Train accuracy')\n",
    "plt.xlabel('Epoch')\n",
    "plt.ylabel('Accuracy')\n",
    "plt.legend(ncol=2, loc='lower right')\n",
    "  \n",
    "plt.subplot(3, 1, 2)\n",
    "for dropout in dropout_choices:\n",
    "  plt.plot(solvers[dropout].val_acc_history, 'o', label='%.2f dropout' % dropout)\n",
    "plt.title('Val accuracy')\n",
    "plt.xlabel('Epoch')\n",
    "plt.ylabel('Accuracy')\n",
    "plt.legend(ncol=2, loc='lower right')\n",
    "\n",
    "plt.gcf().set_size_inches(15, 15)\n",
    "plt.show()"
   ]
  },
  {
   "cell_type": "markdown",
   "metadata": {},
   "source": [
    "# Question\n",
    "Explain what you see in this experiment. What does it suggest about dropout?"
   ]
  },
  {
   "cell_type": "markdown",
   "metadata": {},
   "source": [
    "# Answer\n",
    "Dropout prevent overfitting. Without dropout, the gap accuracy between training and validation could be 65%. If using dropout, the larger p we use the gap accuracy between training and validation would be smaller. However, since dropout reduces the capacity of neural network if we use a too large p, the network would be to weak to fit to data."
   ]
  }
 ],
 "metadata": {
  "kernelspec": {
   "display_name": "Python 3",
   "language": "python",
   "name": "python3"
  },
  "language_info": {
   "codemirror_mode": {
    "name": "ipython",
    "version": 3
   },
   "file_extension": ".py",
   "mimetype": "text/x-python",
   "name": "python",
   "nbconvert_exporter": "python",
   "pygments_lexer": "ipython3",
   "version": "3.7.12"
  }
 },
 "nbformat": 4,
 "nbformat_minor": 1
}
